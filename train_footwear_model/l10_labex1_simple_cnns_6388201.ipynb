{
  "nbformat": 4,
  "nbformat_minor": 0,
  "metadata": {
    "colab": {
      "provenance": [],
      "toc_visible": true
    },
    "kernelspec": {
      "name": "python3",
      "display_name": "Python 3"
    },
    "language_info": {
      "name": "python"
    },
    "widgets": {
      "application/vnd.jupyter.widget-state+json": {
        "a8989bf0d83849fca09fd1ecdbe190e5": {
          "model_module": "@jupyter-widgets/controls",
          "model_name": "HBoxModel",
          "model_module_version": "1.5.0",
          "state": {
            "_dom_classes": [],
            "_model_module": "@jupyter-widgets/controls",
            "_model_module_version": "1.5.0",
            "_model_name": "HBoxModel",
            "_view_count": null,
            "_view_module": "@jupyter-widgets/controls",
            "_view_module_version": "1.5.0",
            "_view_name": "HBoxView",
            "box_style": "",
            "children": [
              "IPY_MODEL_e2039ccec91f408ea1fd8f8b0f6f2b53",
              "IPY_MODEL_737ca49fb12c46a49c704d2660a10155",
              "IPY_MODEL_7632bc50fc1243b6baca8fd4758c6fcc"
            ],
            "layout": "IPY_MODEL_7aedda45d9064e99bc17ecb58024c322"
          }
        },
        "e2039ccec91f408ea1fd8f8b0f6f2b53": {
          "model_module": "@jupyter-widgets/controls",
          "model_name": "HTMLModel",
          "model_module_version": "1.5.0",
          "state": {
            "_dom_classes": [],
            "_model_module": "@jupyter-widgets/controls",
            "_model_module_version": "1.5.0",
            "_model_name": "HTMLModel",
            "_view_count": null,
            "_view_module": "@jupyter-widgets/controls",
            "_view_module_version": "1.5.0",
            "_view_name": "HTMLView",
            "description": "",
            "description_tooltip": null,
            "layout": "IPY_MODEL_ffb57c05925e4c7992ea2c917dedb634",
            "placeholder": "​",
            "style": "IPY_MODEL_05da11fa52fd4d869315f2d14c3324aa",
            "value": "100%"
          }
        },
        "737ca49fb12c46a49c704d2660a10155": {
          "model_module": "@jupyter-widgets/controls",
          "model_name": "FloatProgressModel",
          "model_module_version": "1.5.0",
          "state": {
            "_dom_classes": [],
            "_model_module": "@jupyter-widgets/controls",
            "_model_module_version": "1.5.0",
            "_model_name": "FloatProgressModel",
            "_view_count": null,
            "_view_module": "@jupyter-widgets/controls",
            "_view_module_version": "1.5.0",
            "_view_name": "ProgressView",
            "bar_style": "success",
            "description": "",
            "description_tooltip": null,
            "layout": "IPY_MODEL_0d50e0e990a04b93b01746512b2988d0",
            "max": 170498071,
            "min": 0,
            "orientation": "horizontal",
            "style": "IPY_MODEL_7c23f7f4d99741c5a81f99646e7d493b",
            "value": 170498071
          }
        },
        "7632bc50fc1243b6baca8fd4758c6fcc": {
          "model_module": "@jupyter-widgets/controls",
          "model_name": "HTMLModel",
          "model_module_version": "1.5.0",
          "state": {
            "_dom_classes": [],
            "_model_module": "@jupyter-widgets/controls",
            "_model_module_version": "1.5.0",
            "_model_name": "HTMLModel",
            "_view_count": null,
            "_view_module": "@jupyter-widgets/controls",
            "_view_module_version": "1.5.0",
            "_view_name": "HTMLView",
            "description": "",
            "description_tooltip": null,
            "layout": "IPY_MODEL_c412836fbbdf46a8aa3cdb5ca6bfcff8",
            "placeholder": "​",
            "style": "IPY_MODEL_07f7928b21d348e2b7857b9d331d648a",
            "value": " 170498071/170498071 [00:02&lt;00:00, 54582125.77it/s]"
          }
        },
        "7aedda45d9064e99bc17ecb58024c322": {
          "model_module": "@jupyter-widgets/base",
          "model_name": "LayoutModel",
          "model_module_version": "1.2.0",
          "state": {
            "_model_module": "@jupyter-widgets/base",
            "_model_module_version": "1.2.0",
            "_model_name": "LayoutModel",
            "_view_count": null,
            "_view_module": "@jupyter-widgets/base",
            "_view_module_version": "1.2.0",
            "_view_name": "LayoutView",
            "align_content": null,
            "align_items": null,
            "align_self": null,
            "border": null,
            "bottom": null,
            "display": null,
            "flex": null,
            "flex_flow": null,
            "grid_area": null,
            "grid_auto_columns": null,
            "grid_auto_flow": null,
            "grid_auto_rows": null,
            "grid_column": null,
            "grid_gap": null,
            "grid_row": null,
            "grid_template_areas": null,
            "grid_template_columns": null,
            "grid_template_rows": null,
            "height": null,
            "justify_content": null,
            "justify_items": null,
            "left": null,
            "margin": null,
            "max_height": null,
            "max_width": null,
            "min_height": null,
            "min_width": null,
            "object_fit": null,
            "object_position": null,
            "order": null,
            "overflow": null,
            "overflow_x": null,
            "overflow_y": null,
            "padding": null,
            "right": null,
            "top": null,
            "visibility": null,
            "width": null
          }
        },
        "ffb57c05925e4c7992ea2c917dedb634": {
          "model_module": "@jupyter-widgets/base",
          "model_name": "LayoutModel",
          "model_module_version": "1.2.0",
          "state": {
            "_model_module": "@jupyter-widgets/base",
            "_model_module_version": "1.2.0",
            "_model_name": "LayoutModel",
            "_view_count": null,
            "_view_module": "@jupyter-widgets/base",
            "_view_module_version": "1.2.0",
            "_view_name": "LayoutView",
            "align_content": null,
            "align_items": null,
            "align_self": null,
            "border": null,
            "bottom": null,
            "display": null,
            "flex": null,
            "flex_flow": null,
            "grid_area": null,
            "grid_auto_columns": null,
            "grid_auto_flow": null,
            "grid_auto_rows": null,
            "grid_column": null,
            "grid_gap": null,
            "grid_row": null,
            "grid_template_areas": null,
            "grid_template_columns": null,
            "grid_template_rows": null,
            "height": null,
            "justify_content": null,
            "justify_items": null,
            "left": null,
            "margin": null,
            "max_height": null,
            "max_width": null,
            "min_height": null,
            "min_width": null,
            "object_fit": null,
            "object_position": null,
            "order": null,
            "overflow": null,
            "overflow_x": null,
            "overflow_y": null,
            "padding": null,
            "right": null,
            "top": null,
            "visibility": null,
            "width": null
          }
        },
        "05da11fa52fd4d869315f2d14c3324aa": {
          "model_module": "@jupyter-widgets/controls",
          "model_name": "DescriptionStyleModel",
          "model_module_version": "1.5.0",
          "state": {
            "_model_module": "@jupyter-widgets/controls",
            "_model_module_version": "1.5.0",
            "_model_name": "DescriptionStyleModel",
            "_view_count": null,
            "_view_module": "@jupyter-widgets/base",
            "_view_module_version": "1.2.0",
            "_view_name": "StyleView",
            "description_width": ""
          }
        },
        "0d50e0e990a04b93b01746512b2988d0": {
          "model_module": "@jupyter-widgets/base",
          "model_name": "LayoutModel",
          "model_module_version": "1.2.0",
          "state": {
            "_model_module": "@jupyter-widgets/base",
            "_model_module_version": "1.2.0",
            "_model_name": "LayoutModel",
            "_view_count": null,
            "_view_module": "@jupyter-widgets/base",
            "_view_module_version": "1.2.0",
            "_view_name": "LayoutView",
            "align_content": null,
            "align_items": null,
            "align_self": null,
            "border": null,
            "bottom": null,
            "display": null,
            "flex": null,
            "flex_flow": null,
            "grid_area": null,
            "grid_auto_columns": null,
            "grid_auto_flow": null,
            "grid_auto_rows": null,
            "grid_column": null,
            "grid_gap": null,
            "grid_row": null,
            "grid_template_areas": null,
            "grid_template_columns": null,
            "grid_template_rows": null,
            "height": null,
            "justify_content": null,
            "justify_items": null,
            "left": null,
            "margin": null,
            "max_height": null,
            "max_width": null,
            "min_height": null,
            "min_width": null,
            "object_fit": null,
            "object_position": null,
            "order": null,
            "overflow": null,
            "overflow_x": null,
            "overflow_y": null,
            "padding": null,
            "right": null,
            "top": null,
            "visibility": null,
            "width": null
          }
        },
        "7c23f7f4d99741c5a81f99646e7d493b": {
          "model_module": "@jupyter-widgets/controls",
          "model_name": "ProgressStyleModel",
          "model_module_version": "1.5.0",
          "state": {
            "_model_module": "@jupyter-widgets/controls",
            "_model_module_version": "1.5.0",
            "_model_name": "ProgressStyleModel",
            "_view_count": null,
            "_view_module": "@jupyter-widgets/base",
            "_view_module_version": "1.2.0",
            "_view_name": "StyleView",
            "bar_color": null,
            "description_width": ""
          }
        },
        "c412836fbbdf46a8aa3cdb5ca6bfcff8": {
          "model_module": "@jupyter-widgets/base",
          "model_name": "LayoutModel",
          "model_module_version": "1.2.0",
          "state": {
            "_model_module": "@jupyter-widgets/base",
            "_model_module_version": "1.2.0",
            "_model_name": "LayoutModel",
            "_view_count": null,
            "_view_module": "@jupyter-widgets/base",
            "_view_module_version": "1.2.0",
            "_view_name": "LayoutView",
            "align_content": null,
            "align_items": null,
            "align_self": null,
            "border": null,
            "bottom": null,
            "display": null,
            "flex": null,
            "flex_flow": null,
            "grid_area": null,
            "grid_auto_columns": null,
            "grid_auto_flow": null,
            "grid_auto_rows": null,
            "grid_column": null,
            "grid_gap": null,
            "grid_row": null,
            "grid_template_areas": null,
            "grid_template_columns": null,
            "grid_template_rows": null,
            "height": null,
            "justify_content": null,
            "justify_items": null,
            "left": null,
            "margin": null,
            "max_height": null,
            "max_width": null,
            "min_height": null,
            "min_width": null,
            "object_fit": null,
            "object_position": null,
            "order": null,
            "overflow": null,
            "overflow_x": null,
            "overflow_y": null,
            "padding": null,
            "right": null,
            "top": null,
            "visibility": null,
            "width": null
          }
        },
        "07f7928b21d348e2b7857b9d331d648a": {
          "model_module": "@jupyter-widgets/controls",
          "model_name": "DescriptionStyleModel",
          "model_module_version": "1.5.0",
          "state": {
            "_model_module": "@jupyter-widgets/controls",
            "_model_module_version": "1.5.0",
            "_model_name": "DescriptionStyleModel",
            "_view_count": null,
            "_view_module": "@jupyter-widgets/base",
            "_view_module_version": "1.2.0",
            "_view_name": "StyleView",
            "description_width": ""
          }
        }
      }
    }
  },
  "cells": [
    {
      "cell_type": "markdown",
      "source": [
        "# Prepare environment"
      ],
      "metadata": {
        "id": "fO9RJ5kJ9EjQ"
      }
    },
    {
      "cell_type": "code",
      "source": [
        "import numpy as np\n",
        "import torch\n",
        "import torchvision.transforms as T\n",
        "import torch.nn.functional as F\n",
        "from torch import nn\n",
        "from torch.utils.data import DataLoader, Subset\n",
        "from torchvision import datasets\n",
        "\n",
        "# Stratified split\n",
        "from sklearn.model_selection import train_test_split\n",
        "\n",
        "# PyTorch TensorBoard support\n",
        "from torch.utils.tensorboard import SummaryWriter\n",
        "from datetime import datetime\n",
        "\n",
        "import matplotlib\n",
        "import matplotlib.pyplot as plt\n",
        "font = {'size' : 18}\n",
        "matplotlib.rc('font', **font)"
      ],
      "metadata": {
        "id": "sS9Rj0G98-tu"
      },
      "execution_count": 1,
      "outputs": []
    },
    {
      "cell_type": "markdown",
      "source": [
        "# Prepare datasets"
      ],
      "metadata": {
        "id": "GXL0NsTo9B4P"
      }
    },
    {
      "cell_type": "code",
      "execution_count": 2,
      "metadata": {
        "id": "lWj21rIY5_jn",
        "colab": {
          "base_uri": "https://localhost:8080/",
          "height": 101,
          "referenced_widgets": [
            "a8989bf0d83849fca09fd1ecdbe190e5",
            "e2039ccec91f408ea1fd8f8b0f6f2b53",
            "737ca49fb12c46a49c704d2660a10155",
            "7632bc50fc1243b6baca8fd4758c6fcc",
            "7aedda45d9064e99bc17ecb58024c322",
            "ffb57c05925e4c7992ea2c917dedb634",
            "05da11fa52fd4d869315f2d14c3324aa",
            "0d50e0e990a04b93b01746512b2988d0",
            "7c23f7f4d99741c5a81f99646e7d493b",
            "c412836fbbdf46a8aa3cdb5ca6bfcff8",
            "07f7928b21d348e2b7857b9d331d648a"
          ]
        },
        "outputId": "e40b7cbe-eb1f-48f3-a2fd-1c896f401da6"
      },
      "outputs": [
        {
          "output_type": "stream",
          "name": "stdout",
          "text": [
            "Downloading https://www.cs.toronto.edu/~kriz/cifar-10-python.tar.gz to ./data/cifar-10-python.tar.gz\n"
          ]
        },
        {
          "output_type": "display_data",
          "data": {
            "text/plain": [
              "  0%|          | 0/170498071 [00:00<?, ?it/s]"
            ],
            "application/vnd.jupyter.widget-view+json": {
              "version_major": 2,
              "version_minor": 0,
              "model_id": "a8989bf0d83849fca09fd1ecdbe190e5"
            }
          },
          "metadata": {}
        },
        {
          "output_type": "stream",
          "name": "stdout",
          "text": [
            "Extracting ./data/cifar-10-python.tar.gz to ./data\n",
            "Files already downloaded and verified\n"
          ]
        }
      ],
      "source": [
        "# Download training data from open datasets.\n",
        "train_ds = datasets.CIFAR10(\n",
        "    root=\"./data\",\n",
        "    train=True,\n",
        "    download=True,\n",
        "    transform=T.ToTensor(),\n",
        ")\n",
        "\n",
        "# Download test data from open datasets.\n",
        "test_ds = datasets.CIFAR10(\n",
        "    root=\"./data\",\n",
        "    train=False,\n",
        "    download=True,\n",
        "    transform=T.ToTensor(),\n",
        ")\n",
        "\n",
        "# Preparing for validaion test\n",
        "train_indices, valid_indices, _, _ = train_test_split(\n",
        "    range(len(train_ds)),\n",
        "    train_ds.targets,\n",
        "    test_size=10000\n",
        ")\n",
        "valid_ds = Subset(train_ds, valid_indices)\n",
        "train_ds = Subset(train_ds, train_indices)\n",
        "\n",
        "# Create data loaders\n",
        "batch_size = 64\n",
        "train_dl = DataLoader(train_ds, batch_size=batch_size, shuffle=True)\n",
        "valid_dl = DataLoader(valid_ds, batch_size=batch_size, shuffle=False)\n",
        "test_dl = DataLoader(test_ds, batch_size=batch_size, shuffle=False)\n",
        "\n",
        "# Class mapping\n",
        "classes = [\n",
        "    'Airplane',\n",
        "    'Automobile',\n",
        "    'Bird',\n",
        "    'Cat',\n",
        "    'Deer',\n",
        "    'Dog',\n",
        "    'Frog',\n",
        "    'Horse',\n",
        "    'Ship',\n",
        "    'Truck',\n",
        "]"
      ]
    },
    {
      "cell_type": "code",
      "source": [
        "# Report split sizes\n",
        "print(f'Training set: {len(train_ds)} examples')\n",
        "print(f'Validation set: {len(valid_ds)} examples')\n",
        "print(f'Test set: {len(test_ds)} examples')"
      ],
      "metadata": {
        "id": "EnUtlb3pfRtW",
        "colab": {
          "base_uri": "https://localhost:8080/"
        },
        "outputId": "0c27dd4c-9f24-4309-fb48-fa34b39177af"
      },
      "execution_count": 3,
      "outputs": [
        {
          "output_type": "stream",
          "name": "stdout",
          "text": [
            "Training set: 40000 examples\n",
            "Validation set: 10000 examples\n",
            "Test set: 10000 examples\n"
          ]
        }
      ]
    },
    {
      "cell_type": "markdown",
      "source": [
        "It is always a good idea to visualize the input and the label obtained from the DataLoader to make sure that the input data are as expected."
      ],
      "metadata": {
        "id": "lbgoCkUQvQqF"
      }
    },
    {
      "cell_type": "code",
      "source": [
        "# Get one batch of data\n",
        "for batch in train_dl:\n",
        "    imgs, lbls = batch\n",
        "    break\n",
        "\n",
        "print(imgs.shape)\n",
        "print(lbls.shape)"
      ],
      "metadata": {
        "id": "xHh4GmDuvdGq",
        "colab": {
          "base_uri": "https://localhost:8080/"
        },
        "outputId": "1922cea6-065c-4bf8-d189-aa3dae6851e6"
      },
      "execution_count": 4,
      "outputs": [
        {
          "output_type": "stream",
          "name": "stdout",
          "text": [
            "torch.Size([64, 3, 32, 32])\n",
            "torch.Size([64])\n"
          ]
        }
      ]
    },
    {
      "cell_type": "code",
      "source": [
        "figure = plt.figure(figsize=(8, 8))\n",
        "cols, rows = 3, 3\n",
        "for i in range(1, cols * rows + 1):\n",
        "    sample_idx = torch.randint(len(imgs), size=(1,)).item()\n",
        "    img, label = imgs[sample_idx], lbls[sample_idx]\n",
        "    figure.add_subplot(rows, cols, i)\n",
        "    plt.title(classes[label])\n",
        "    plt.axis(\"off\")\n",
        "    plt.imshow(img.numpy().transpose(1,2,0))\n",
        "plt.show()"
      ],
      "metadata": {
        "id": "V6vguEdmwFil",
        "colab": {
          "base_uri": "https://localhost:8080/",
          "height": 488
        },
        "outputId": "c6150936-5d1c-455a-f2a5-3665bed5025c"
      },
      "execution_count": 5,
      "outputs": [
        {
          "output_type": "display_data",
          "data": {
            "text/plain": [
              "<Figure size 576x576 with 9 Axes>"
            ],
            "image/png": "[encoded data removed]"
          },
          "metadata": {
            "needs_background": "light"
          }
        }
      ]
    },
    {
      "cell_type": "markdown",
      "source": [
        "# Create a model"
      ],
      "metadata": {
        "id": "aZkzds3X88Xe"
      }
    },
    {
      "cell_type": "code",
      "execution_count": 9,
      "metadata": {
        "id": "RlF7qNi_5_jp",
        "colab": {
          "base_uri": "https://localhost:8080/"
        },
        "outputId": "75f3bd5d-1af6-4681-a4d1-169be12c22a9"
      },
      "outputs": [
        {
          "output_type": "stream",
          "name": "stdout",
          "text": [
            "Using cpu device\n",
            "SimpleCNN(\n",
            "  (conv_stack): Sequential(\n",
            "    (0): Conv2d(3, 32, kernel_size=(3, 3), stride=(1, 1))\n",
            "    (1): ReLU()\n",
            "    (2): MaxPool2d(kernel_size=2, stride=2, padding=0, dilation=1, ceil_mode=False)\n",
            "    (3): Conv2d(32, 64, kernel_size=(3, 3), stride=(1, 1))\n",
            "    (4): ReLU()\n",
            "    (5): MaxPool2d(kernel_size=2, stride=2, padding=0, dilation=1, ceil_mode=False)\n",
            "    (6): Flatten(start_dim=1, end_dim=-1)\n",
            "    (7): Linear(in_features=2304, out_features=10, bias=True)\n",
            "  )\n",
            ")\n"
          ]
        }
      ],
      "source": [
        "# Get cpu or gpu device for training.\n",
        "device = \"cuda\" if torch.cuda.is_available() else \"cpu\"\n",
        "print(f\"Using {device} device\")\n",
        "\n",
        "# Define model\n",
        "class SimpleCNN(nn.Module):\n",
        "    def __init__(self):\n",
        "        super().__init__()\n",
        "        # YOUR CODE HERE\n",
        "        self.conv_stack = nn.Sequential(\n",
        "            nn.Conv2d(3, 32, kernel_size=3),\n",
        "            nn.ReLU(),\n",
        "            nn.MaxPool2d(kernel_size=2),\n",
        "            nn.Conv2d(32, 64, kernel_size=3),\n",
        "            nn.ReLU(),\n",
        "            nn.MaxPool2d(kernel_size=2),\n",
        "            nn.Flatten(),\n",
        "            nn.Linear(64 * 6 * 6, 10)\n",
        "        )\n",
        "\n",
        "    def forward(self, x):\n",
        "        # out = # YOUR CODE HERE\n",
        "        logits = self.conv_stack(x)\n",
        "        return logits\n",
        "\n",
        "model = SimpleCNN().to(device)\n",
        "print(model)"
      ]
    },
    {
      "cell_type": "markdown",
      "source": [
        "Once you have created a model, it is always a good idea to try to process the input data from the DataLoader to make sure that we can train the model."
      ],
      "metadata": {
        "id": "8Q4vj2-zx1n6"
      }
    },
    {
      "cell_type": "code",
      "source": [
        "# Get one batch of data\n",
        "for batch in train_dl:\n",
        "    imgs, lbls = batch\n",
        "    break\n",
        "\n",
        "preds = model(imgs.to(device))\n",
        "print(preds.shape)"
      ],
      "metadata": {
        "id": "JGWRQskQx-FF",
        "colab": {
          "base_uri": "https://localhost:8080/"
        },
        "outputId": "b54be2ab-8eda-4e6d-9a7a-400c97bb7dd0"
      },
      "execution_count": 10,
      "outputs": [
        {
          "output_type": "stream",
          "name": "stdout",
          "text": [
            "torch.Size([64, 10])\n"
          ]
        }
      ]
    },
    {
      "cell_type": "markdown",
      "metadata": {
        "id": "XyebIUFG5_jq"
      },
      "source": [
        "# Train a model"
      ]
    },
    {
      "cell_type": "code",
      "execution_count": 11,
      "metadata": {
        "id": "-VDPtHxc5_jq"
      },
      "outputs": [],
      "source": [
        "# Specify loss\n",
        "# Note: Make sure to check the following when choosing the loss\n",
        "#   1. the label format of each loss (one-hot, ordinal, etc.)\n",
        "#   2. classification or regression\n",
        "loss_fn = nn.CrossEntropyLoss()"
      ]
    },
    {
      "cell_type": "code",
      "source": [
        "# Specify optimizer\n",
        "# e.g., SGD, Adam, RMSProp, etc.\n",
        "optimizer = torch.optim.Adam(model.parameters(), lr=1e-3)"
      ],
      "metadata": {
        "id": "u28VQNdHwjoZ"
      },
      "execution_count": 12,
      "outputs": []
    },
    {
      "cell_type": "code",
      "execution_count": 13,
      "metadata": {
        "id": "8XGl4Q8V5_jr"
      },
      "outputs": [],
      "source": [
        "def train_one_epoch(dataloader, model, loss_fn, optimizer):\n",
        "    # Size of the dataset\n",
        "    size = len(dataloader.dataset)\n",
        "\n",
        "    # Training mode\n",
        "    model.train()\n",
        "\n",
        "    # Keep track of the loss\n",
        "    running_loss = 0.\n",
        "    last_loss = 0.\n",
        "\n",
        "    # We use enumerate to track the batch index\n",
        "    for i, batch in enumerate(dataloader):\n",
        "        X, y = batch\n",
        "        X, y = X.to(device), y.to(device)\n",
        "\n",
        "        # Zeros the optimizer's gradient\n",
        "        optimizer.zero_grad()\n",
        "\n",
        "        # Prediction\n",
        "        pred = model(X)\n",
        "\n",
        "        # Compute loss\n",
        "        loss = loss_fn(pred, y)\n",
        "\n",
        "        # Backpropagation\n",
        "        loss.backward()  # calculate the backward gradients\n",
        "        optimizer.step()  # adjust model's weights based on the observed gradients\n",
        "\n",
        "        # Keep track of the loss\n",
        "        running_loss += loss.item()\n",
        "        if (i+1) % 50 == 0:\n",
        "            last_loss = running_loss / 50\n",
        "            current = (i + 1) * len(X)\n",
        "            print(f\"loss: {last_loss:>7f}  [{current:>5d}/{size:>5d}]\")\n",
        "            running_loss = 0."
      ]
    },
    {
      "cell_type": "code",
      "execution_count": 14,
      "metadata": {
        "id": "Gtl9HK4O5_jr"
      },
      "outputs": [],
      "source": [
        "def test(dataloader, model, loss_fn):\n",
        "    size = len(dataloader.dataset)\n",
        "    num_batches = len(dataloader)\n",
        "\n",
        "    # Test mode\n",
        "    model.eval()\n",
        "\n",
        "    # Predict on test set\n",
        "    loss, correct = 0, 0\n",
        "    with torch.no_grad():\n",
        "        for X, y in dataloader:\n",
        "            X, y = X.to(device), y.to(device)\n",
        "            # Prediction\n",
        "            pred = model(X)\n",
        "            y_pred = pred.argmax(1)\n",
        "            # Compute loss\n",
        "            loss += loss_fn(pred, y).item()\n",
        "            # Correct predictions\n",
        "            correct += (y_pred == y).type(torch.float).sum().item()\n",
        "\n",
        "    # Average loss\n",
        "    loss /= num_batches\n",
        "\n",
        "    # Accuracy\n",
        "    accuracy = correct / size\n",
        "\n",
        "    return loss, accuracy"
      ]
    },
    {
      "cell_type": "markdown",
      "metadata": {
        "id": "Jp0BCKNG5_jr"
      },
      "source": [
        "The training process is conducted over several iterations (*epochs*). During each epoch, the model learns\n",
        "parameters to make better predictions. We print the model's accuracy and loss at each epoch; we'd like to see the\n",
        "accuracy increase and the loss decrease with every epoch.\n",
        "We also keep track of the validation loss, and save the model that perform best on the validation set.\n",
        "\n"
      ]
    },
    {
      "cell_type": "code",
      "execution_count": 15,
      "metadata": {
        "id": "IyFw_NQA5_jr",
        "colab": {
          "base_uri": "https://localhost:8080/"
        },
        "outputId": "8d355bcf-97fd-4a50-b958-947939e88668"
      },
      "outputs": [
        {
          "output_type": "stream",
          "name": "stdout",
          "text": [
            "Epoch 1\n",
            "-------------------------------\n",
            "loss: 2.138024  [ 3200/40000]\n",
            "loss: 1.887721  [ 6400/40000]\n",
            "loss: 1.745988  [ 9600/40000]\n",
            "loss: 1.663311  [12800/40000]\n",
            "loss: 1.595425  [16000/40000]\n",
            "loss: 1.539504  [19200/40000]\n",
            "loss: 1.497266  [22400/40000]\n",
            "loss: 1.487655  [25600/40000]\n",
            "loss: 1.455900  [28800/40000]\n",
            "loss: 1.431284  [32000/40000]\n",
            "loss: 1.400778  [35200/40000]\n",
            "loss: 1.378853  [38400/40000]\n",
            "Saved best model to model_best_vloss.pth\n",
            "Epoch 2\n",
            "-------------------------------\n",
            "loss: 1.382093  [ 3200/40000]\n",
            "loss: 1.365773  [ 6400/40000]\n",
            "loss: 1.301516  [ 9600/40000]\n",
            "loss: 1.303502  [12800/40000]\n",
            "loss: 1.313625  [16000/40000]\n",
            "loss: 1.324011  [19200/40000]\n",
            "loss: 1.314800  [22400/40000]\n",
            "loss: 1.323279  [25600/40000]\n",
            "loss: 1.253664  [28800/40000]\n",
            "loss: 1.282059  [32000/40000]\n",
            "loss: 1.255881  [35200/40000]\n",
            "loss: 1.269738  [38400/40000]\n",
            "Saved best model to model_best_vloss.pth\n",
            "Epoch 3\n",
            "-------------------------------\n",
            "loss: 1.214119  [ 3200/40000]\n",
            "loss: 1.226795  [ 6400/40000]\n",
            "loss: 1.223367  [ 9600/40000]\n",
            "loss: 1.207174  [12800/40000]\n",
            "loss: 1.190243  [16000/40000]\n",
            "loss: 1.200537  [19200/40000]\n",
            "loss: 1.155919  [22400/40000]\n",
            "loss: 1.177738  [25600/40000]\n",
            "loss: 1.145187  [28800/40000]\n",
            "loss: 1.166023  [32000/40000]\n",
            "loss: 1.157377  [35200/40000]\n",
            "loss: 1.141964  [38400/40000]\n",
            "Saved best model to model_best_vloss.pth\n",
            "Epoch 4\n",
            "-------------------------------\n",
            "loss: 1.081692  [ 3200/40000]\n",
            "loss: 1.125790  [ 6400/40000]\n",
            "loss: 1.103736  [ 9600/40000]\n",
            "loss: 1.097335  [12800/40000]\n",
            "loss: 1.123543  [16000/40000]\n",
            "loss: 1.089016  [19200/40000]\n",
            "loss: 1.105003  [22400/40000]\n",
            "loss: 1.093757  [25600/40000]\n",
            "loss: 1.105839  [28800/40000]\n",
            "loss: 1.074859  [32000/40000]\n",
            "loss: 1.078994  [35200/40000]\n",
            "loss: 1.089137  [38400/40000]\n",
            "Saved best model to model_best_vloss.pth\n",
            "Epoch 5\n",
            "-------------------------------\n",
            "loss: 1.056022  [ 3200/40000]\n",
            "loss: 1.010766  [ 6400/40000]\n",
            "loss: 1.107168  [ 9600/40000]\n",
            "loss: 1.055849  [12800/40000]\n",
            "loss: 1.028477  [16000/40000]\n",
            "loss: 1.026858  [19200/40000]\n",
            "loss: 1.026259  [22400/40000]\n",
            "loss: 1.017801  [25600/40000]\n",
            "loss: 1.032403  [28800/40000]\n",
            "loss: 1.027762  [32000/40000]\n",
            "loss: 1.063284  [35200/40000]\n",
            "loss: 1.015778  [38400/40000]\n",
            "Saved best model to model_best_vloss.pth\n",
            "Epoch 6\n",
            "-------------------------------\n",
            "loss: 0.998623  [ 3200/40000]\n",
            "loss: 0.996992  [ 6400/40000]\n",
            "loss: 0.992238  [ 9600/40000]\n",
            "loss: 0.993279  [12800/40000]\n",
            "loss: 0.974998  [16000/40000]\n",
            "loss: 0.973858  [19200/40000]\n",
            "loss: 0.977302  [22400/40000]\n",
            "loss: 0.979034  [25600/40000]\n",
            "loss: 0.950789  [28800/40000]\n",
            "loss: 1.011128  [32000/40000]\n",
            "loss: 1.020201  [35200/40000]\n",
            "loss: 1.004734  [38400/40000]\n",
            "Saved best model to model_best_vloss.pth\n",
            "Epoch 7\n",
            "-------------------------------\n",
            "loss: 0.973690  [ 3200/40000]\n",
            "loss: 0.926418  [ 6400/40000]\n",
            "loss: 0.964846  [ 9600/40000]\n",
            "loss: 0.976769  [12800/40000]\n",
            "loss: 0.952976  [16000/40000]\n",
            "loss: 0.954936  [19200/40000]\n",
            "loss: 0.935665  [22400/40000]\n",
            "loss: 0.972377  [25600/40000]\n",
            "loss: 0.988317  [28800/40000]\n",
            "loss: 0.954676  [32000/40000]\n",
            "loss: 0.925729  [35200/40000]\n",
            "loss: 0.934947  [38400/40000]\n",
            "Epoch 8\n",
            "-------------------------------\n",
            "loss: 0.929328  [ 3200/40000]\n",
            "loss: 0.933032  [ 6400/40000]\n",
            "loss: 0.926946  [ 9600/40000]\n",
            "loss: 0.917974  [12800/40000]\n",
            "loss: 0.899859  [16000/40000]\n",
            "loss: 0.888564  [19200/40000]\n",
            "loss: 0.960378  [22400/40000]\n",
            "loss: 0.919967  [25600/40000]\n",
            "loss: 0.953226  [28800/40000]\n",
            "loss: 0.947990  [32000/40000]\n",
            "loss: 0.929228  [35200/40000]\n",
            "loss: 0.924862  [38400/40000]\n",
            "Saved best model to model_best_vloss.pth\n",
            "Epoch 9\n",
            "-------------------------------\n",
            "loss: 0.883675  [ 3200/40000]\n",
            "loss: 0.893201  [ 6400/40000]\n",
            "loss: 0.893267  [ 9600/40000]\n",
            "loss: 0.904690  [12800/40000]\n",
            "loss: 0.898209  [16000/40000]\n",
            "loss: 0.895143  [19200/40000]\n",
            "loss: 0.898754  [22400/40000]\n",
            "loss: 0.917775  [25600/40000]\n",
            "loss: 0.886031  [28800/40000]\n",
            "loss: 0.879380  [32000/40000]\n",
            "loss: 0.888446  [35200/40000]\n",
            "loss: 0.910166  [38400/40000]\n",
            "Epoch 10\n",
            "-------------------------------\n",
            "loss: 0.861365  [ 3200/40000]\n",
            "loss: 0.875561  [ 6400/40000]\n",
            "loss: 0.836870  [ 9600/40000]\n",
            "loss: 0.886363  [12800/40000]\n",
            "loss: 0.870515  [16000/40000]\n",
            "loss: 0.877622  [19200/40000]\n",
            "loss: 0.859798  [22400/40000]\n",
            "loss: 0.851501  [25600/40000]\n",
            "loss: 0.895935  [28800/40000]\n",
            "loss: 0.921094  [32000/40000]\n",
            "loss: 0.901284  [35200/40000]\n",
            "loss: 0.885756  [38400/40000]\n",
            "Saved best model to model_best_vloss.pth\n",
            "Epoch 11\n",
            "-------------------------------\n",
            "loss: 0.834638  [ 3200/40000]\n",
            "loss: 0.831713  [ 6400/40000]\n",
            "loss: 0.817284  [ 9600/40000]\n",
            "loss: 0.862866  [12800/40000]\n",
            "loss: 0.860805  [16000/40000]\n",
            "loss: 0.861264  [19200/40000]\n",
            "loss: 0.869047  [22400/40000]\n",
            "loss: 0.849657  [25600/40000]\n",
            "loss: 0.863904  [28800/40000]\n",
            "loss: 0.832533  [32000/40000]\n",
            "loss: 0.850878  [35200/40000]\n",
            "loss: 0.841394  [38400/40000]\n",
            "Epoch 12\n",
            "-------------------------------\n",
            "loss: 0.795186  [ 3200/40000]\n",
            "loss: 0.834220  [ 6400/40000]\n",
            "loss: 0.807654  [ 9600/40000]\n",
            "loss: 0.819115  [12800/40000]\n",
            "loss: 0.813610  [16000/40000]\n",
            "loss: 0.850988  [19200/40000]\n",
            "loss: 0.828910  [22400/40000]\n",
            "loss: 0.812608  [25600/40000]\n",
            "loss: 0.811135  [28800/40000]\n",
            "loss: 0.857132  [32000/40000]\n",
            "loss: 0.847996  [35200/40000]\n",
            "loss: 0.823936  [38400/40000]\n",
            "Epoch 13\n",
            "-------------------------------\n",
            "loss: 0.803194  [ 3200/40000]\n",
            "loss: 0.828008  [ 6400/40000]\n",
            "loss: 0.804163  [ 9600/40000]\n",
            "loss: 0.802304  [12800/40000]\n",
            "loss: 0.804077  [16000/40000]\n",
            "loss: 0.820026  [19200/40000]\n",
            "loss: 0.815013  [22400/40000]\n",
            "loss: 0.793148  [25600/40000]\n",
            "loss: 0.797029  [28800/40000]\n",
            "loss: 0.806546  [32000/40000]\n",
            "loss: 0.820718  [35200/40000]\n",
            "loss: 0.838216  [38400/40000]\n",
            "Saved best model to model_best_vloss.pth\n",
            "Epoch 14\n",
            "-------------------------------\n",
            "loss: 0.792604  [ 3200/40000]\n",
            "loss: 0.751980  [ 6400/40000]\n",
            "loss: 0.782649  [ 9600/40000]\n",
            "loss: 0.778814  [12800/40000]\n",
            "loss: 0.791705  [16000/40000]\n",
            "loss: 0.791139  [19200/40000]\n",
            "loss: 0.783813  [22400/40000]\n",
            "loss: 0.803203  [25600/40000]\n",
            "loss: 0.793108  [28800/40000]\n",
            "loss: 0.796792  [32000/40000]\n",
            "loss: 0.822348  [35200/40000]\n",
            "loss: 0.772549  [38400/40000]\n",
            "Epoch 15\n",
            "-------------------------------\n",
            "loss: 0.746949  [ 3200/40000]\n",
            "loss: 0.753304  [ 6400/40000]\n",
            "loss: 0.811438  [ 9600/40000]\n",
            "loss: 0.777528  [12800/40000]\n",
            "loss: 0.773023  [16000/40000]\n",
            "loss: 0.781089  [19200/40000]\n",
            "loss: 0.780457  [22400/40000]\n",
            "loss: 0.758897  [25600/40000]\n",
            "loss: 0.785713  [28800/40000]\n",
            "loss: 0.754945  [32000/40000]\n",
            "loss: 0.781768  [35200/40000]\n",
            "loss: 0.759860  [38400/40000]\n",
            "Done!\n"
          ]
        }
      ],
      "source": [
        "epochs = 15\n",
        "best_vloss = 100000.\n",
        "hist = {\n",
        "    'train_loss': [],\n",
        "    'train_acc': [],\n",
        "    'val_loss': [],\n",
        "    'val_acc': [],\n",
        "}\n",
        "\n",
        "for epoch in range(epochs):\n",
        "    print(f\"Epoch {epoch+1}\\n-------------------------------\")\n",
        "    train_one_epoch(train_dl, model, loss_fn, optimizer)\n",
        "    train_loss, train_acc = test(train_dl, model, loss_fn)\n",
        "    val_loss, val_acc = test(valid_dl, model, loss_fn)\n",
        "\n",
        "    # History for learning curve\n",
        "    hist['train_loss'].append(train_loss)\n",
        "    hist['train_acc'].append(train_acc)\n",
        "    hist['val_loss'].append(val_loss)\n",
        "    hist['val_acc'].append(val_acc)\n",
        "\n",
        "    # Track best performance, and save the model's state\n",
        "    if val_loss < best_vloss:\n",
        "        best_vloss = val_loss\n",
        "        torch.save(model.state_dict(), 'model_best_vloss.pth')\n",
        "        print('Saved best model to model_best_vloss.pth')\n",
        "print(\"Done!\")"
      ]
    },
    {
      "cell_type": "code",
      "source": [
        "fig, ax = plt.subplots(figsize=(8,6))\n",
        "ax.plot(hist['train_loss'], label='train')\n",
        "ax.plot(hist['val_loss'], label='valid')\n",
        "ax.set_ylabel('Loss')\n",
        "ax.set_xlabel('Epochs')\n",
        "plt.legend()\n",
        "plt.show()\n",
        "\n",
        "fig, ax = plt.subplots(figsize=(8,6))\n",
        "ax.plot(hist['train_acc'], label='train')\n",
        "ax.plot(hist['val_acc'], label='valid')\n",
        "ax.set_ylabel('Accuracy')\n",
        "ax.set_xlabel('Epochs')\n",
        "plt.legend()\n",
        "plt.show()\n",
        "\n",
        "plt.close('all')"
      ],
      "metadata": {
        "id": "fHu5oqzTujik",
        "colab": {
          "base_uri": "https://localhost:8080/",
          "height": 791
        },
        "outputId": "516a42b0-1af5-4827-d087-06a550ee30ea"
      },
      "execution_count": 16,
      "outputs": [
        {
          "output_type": "display_data",
          "data": {
            "text/plain": [
              "<Figure size 576x432 with 1 Axes>"
            ],
            "image/png": "[encoded data removed]"
          },
          "metadata": {
            "needs_background": "light"
          }
        },
        {
          "output_type": "display_data",
          "data": {
            "text/plain": [
              "<Figure size 576x432 with 1 Axes>"
            ],
            "image/png": "[encoded data removed]"
          },
          "metadata": {
            "needs_background": "light"
          }
        }
      ]
    },
    {
      "cell_type": "markdown",
      "metadata": {
        "id": "LLzLQsvR5_jr"
      },
      "source": [
        "# Load Best Model on Validation Set\n",
        "\n"
      ]
    },
    {
      "cell_type": "code",
      "execution_count": 17,
      "metadata": {
        "id": "x7Ny0BYO5_jr",
        "colab": {
          "base_uri": "https://localhost:8080/"
        },
        "outputId": "909506b6-65df-46dc-ef96-028e01ac6a2c"
      },
      "outputs": [
        {
          "output_type": "execute_result",
          "data": {
            "text/plain": [
              "<All keys matched successfully>"
            ]
          },
          "metadata": {},
          "execution_count": 17
        }
      ],
      "source": [
        "model_best = SimpleCNN().to(device)\n",
        "model_best.load_state_dict(torch.load(\"model_best_vloss.pth\"))"
      ]
    },
    {
      "cell_type": "markdown",
      "source": [
        "# Evaluate on the test set"
      ],
      "metadata": {
        "id": "xrGN_zf5sm64"
      }
    },
    {
      "cell_type": "markdown",
      "metadata": {
        "id": "Lmz2wdJv5_jr"
      },
      "source": [
        "Predict on one example.\n",
        "\n"
      ]
    },
    {
      "cell_type": "code",
      "execution_count": 18,
      "metadata": {
        "id": "h-BRbrSn5_js",
        "colab": {
          "base_uri": "https://localhost:8080/"
        },
        "outputId": "c5479a1c-b1d7-4c6a-d79e-54792218a3b1"
      },
      "outputs": [
        {
          "output_type": "stream",
          "name": "stdout",
          "text": [
            "Predicted: \"Cat\", Actual: \"Cat\"\n"
          ]
        }
      ],
      "source": [
        "model_best.eval()\n",
        "\n",
        "# Get one batch of data\n",
        "for batch in test_dl:\n",
        "    imgs, lbls = batch\n",
        "    break\n",
        "\n",
        "X, y = imgs[0:1].to(device), lbls[0:1].to(device)\n",
        "with torch.no_grad():\n",
        "    pred = model_best(X)\n",
        "    predicted, actual = classes[pred[0].argmax(0)], classes[y]\n",
        "    print(f'Predicted: \"{predicted}\", Actual: \"{actual}\"')"
      ]
    },
    {
      "cell_type": "markdown",
      "source": [
        "Predict on the whole test set."
      ],
      "metadata": {
        "id": "IEtEOeChsXlB"
      }
    },
    {
      "cell_type": "code",
      "source": [
        "# Use the best model on the validation set\n",
        "test_loss, test_acc = test(test_dl, model_best, loss_fn)\n",
        "print(f\"Test: loss={test_loss:>8f}, acc={(100*test_acc):>0.1f}%\")"
      ],
      "metadata": {
        "id": "uvcTf5Ma97hc",
        "colab": {
          "base_uri": "https://localhost:8080/"
        },
        "outputId": "47536607-2b27-41d0-d6dc-fb38181b27db"
      },
      "execution_count": 19,
      "outputs": [
        {
          "output_type": "stream",
          "name": "stdout",
          "text": [
            "Test: loss=0.956537, acc=67.4%\n"
          ]
        }
      ]
    },
    {
      "cell_type": "code",
      "source": [
        "# Use the latest model\n",
        "# Note: the latest model might be different from the best on validation set\n",
        "test_loss, test_acc = test(test_dl, model, loss_fn)\n",
        "print(f\"Test: loss={test_loss:>8f}, acc={(100*test_acc):>0.1f}%\")"
      ],
      "metadata": {
        "id": "gGemt3Dj7d-c",
        "colab": {
          "base_uri": "https://localhost:8080/"
        },
        "outputId": "05d57823-55e3-420d-ab0f-0b02476f9dd4"
      },
      "execution_count": 20,
      "outputs": [
        {
          "output_type": "stream",
          "name": "stdout",
          "text": [
            "Test: loss=0.970232, acc=67.0%\n"
          ]
        }
      ]
    },
    {
      "cell_type": "code",
      "source": [],
      "metadata": {
        "id": "66o16eiCUZtv"
      },
      "execution_count": null,
      "outputs": []
    }
  ]
}